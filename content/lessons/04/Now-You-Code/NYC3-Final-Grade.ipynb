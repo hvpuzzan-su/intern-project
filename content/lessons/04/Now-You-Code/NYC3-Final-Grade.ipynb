{
 "cells": [
  {
   "cell_type": "markdown",
   "metadata": {},
   "source": [
    "# Now You Code 3: Final Grade in IST256\n",
    "\n",
    "# Part 1\n",
    "\n",
    "Our Course Syllabus has a grading scale here:\n",
    "\n",
    "http://ist256.syr.edu/syllabus/#grading-scale\n",
    "\n",
    "Write a Python program to input a number of points earned out of 600 and then\n",
    "outputs the registrar letter grade. \n",
    "\n",
    "For example:\n",
    "\n",
    "    IST256 Grade Calculator\n",
    "    Enter total points out of 600:  550\n",
    "    Grade: A- \n"
   ]
  },
  {
   "cell_type": "markdown",
   "metadata": {
    "collapsed": true
   },
   "source": [
    "## Step 1: Problem Analysis\n",
    "\n",
    "Inputs:\n",
    "\n",
    "Number of points \n",
    "\n",
    "Outputs:\n",
    "\n",
    "Grade\n",
    "\n",
    "Algorithm (Steps in Program):\n",
    "\n",
    "input number of points.\n",
    "conditional statement to translate points to letter grade\n",
    "output grade\n",
    "\n"
   ]
  },
  {
   "cell_type": "code",
   "execution_count": 4,
   "metadata": {},
   "outputs": [
    {
     "name": "stdout",
     "output_type": "stream",
     "text": [
      "Enter total points out of 600: 356\n",
      "D\n"
     ]
    }
   ],
   "source": [
    "#Step 2: write code here\n",
    "points = int(input('Enter total points out of 600: '))\n",
    "if points >= 570:\n",
    "    print('A')\n",
    "elif (540 <= points <= 569):\n",
    "    print('A-')\n",
    "elif (510 <= points <= 539):\n",
    "    print('B+')\n",
    "elif (480 <= points <= 509):\n",
    "    print('B')\n",
    "elif (450 <= points <= 479):\n",
    "    print('B-')\n",
    "elif (420 <= points <= 449):\n",
    "    print('C+')\n",
    "elif (390 <= points <= 419):\n",
    "    print('C')\n",
    "elif (360 <= points <= 389):\n",
    "    print('C-')\n",
    "elif (300 <= points <= 359):\n",
    "    print('D')\n",
    "else:\n",
    "    print('F')\n"
   ]
  },
  {
   "cell_type": "markdown",
   "metadata": {},
   "source": [
    "# Part 2\n",
    "\n",
    "Now that you got it working,  re-write your code to handle bad input. Specifically:\n",
    "\n",
    "\n",
    "- non integer values\n",
    "- integer values outside the 0 to 600 range.\n",
    "\n",
    "**Note:** Exception handling is not part of our algorithm. It's a programming concern, not a problem-solving concern!"
   ]
  },
  {
   "cell_type": "code",
   "execution_count": 1,
   "metadata": {},
   "outputs": [
    {
     "name": "stdout",
     "output_type": "stream",
     "text": [
      "Enter total points out of 600: 60.5\n",
      "F\n"
     ]
    }
   ],
   "source": [
    "## Step 2 (again): write code again but handle errors with try...except\n",
    "points = float(input('Enter total points out of 600: '))\n",
    "if (570 <= points <= 600):\n",
    "    print('A')\n",
    "elif (540 <= points <= 569):\n",
    "    print('A-')\n",
    "elif (510 <= points <= 539):\n",
    "    print('B+')\n",
    "elif (480 <= points <= 509):\n",
    "    print('B')\n",
    "elif (450 <= points <= 479):\n",
    "    print('B-')\n",
    "elif (420 <= points <= 449):\n",
    "    print('C+')\n",
    "elif (390 <= points <= 419):\n",
    "    print('C')\n",
    "elif (360 <= points <= 389):\n",
    "    print('C-')\n",
    "elif (300 <= points <= 359):\n",
    "    print('D')\n",
    "elif (points < 0):\n",
    "    print('Value not in range')\n",
    "elif (points > 600):\n",
    "    print('Value not in range')\n",
    "else:\n",
    "    print('F')\n"
   ]
  },
  {
   "cell_type": "markdown",
   "metadata": {},
   "source": [
    "## Step 3: Questions\n",
    "\n",
    "1. What specific Python Error are we handling (please provide the name of it)?\n",
    "\n",
    "A Value Error.\n",
    "\n",
    "2. How many times must you execute this program and check the output before you canbe reasonably assured your code is correct? Explain.\n",
    "\n",
    "13 times to test each grade, ranges outside 0 to 600, and non integers. \n",
    "\n",
    "3. When testing this program do you think its more important to test numbers in the middle of the grade range or exactly on the boundary between one grade range and the next. Justify your response.\n",
    "\n",
    "On the boundary because that ensures that you have the correct inequality statements to produce an accurate grade output. \n",
    "\n"
   ]
  },
  {
   "cell_type": "markdown",
   "metadata": {},
   "source": [
    "## Reminder of Evaluation Criteria\n",
    "\n",
    "1. What the problem attempted (analysis, code, and answered questions) ?\n",
    "2. What the problem analysis thought out? (does the program match the plan?)\n",
    "3. Does the code execute without syntax error?\n",
    "4. Does the code solve the intended problem?\n",
    "5. Is the code well written? (easy to understand, modular, and self-documenting, handles errors)\n"
   ]
  }
 ],
 "metadata": {
  "anaconda-cloud": {},
  "kernelspec": {
   "display_name": "Python 3",
   "language": "python",
   "name": "python3"
  },
  "language_info": {
   "codemirror_mode": {
    "name": "ipython",
    "version": 3
   },
   "file_extension": ".py",
   "mimetype": "text/x-python",
   "name": "python",
   "nbconvert_exporter": "python",
   "pygments_lexer": "ipython3",
   "version": "3.6.3"
  }
 },
 "nbformat": 4,
 "nbformat_minor": 1
}
