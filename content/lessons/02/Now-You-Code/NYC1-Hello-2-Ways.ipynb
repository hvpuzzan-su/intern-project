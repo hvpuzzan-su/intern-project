{
 "cells": [
  {
   "cell_type": "markdown",
   "metadata": {},
   "source": [
    "# Now You Code 1: Hello 2 Ways\n",
    "\n",
    "Write a Python program which prompts you to input your first name and then your last name. It should then print your name two ways First Last and Last, First. For example:\n",
    "\n",
    "```\n",
    "What is your first name? Michael\n",
    "What is your last name? Fudge\n",
    "Hello, Michael Fudge\n",
    "Or should I say Fudge, Michael\n",
    "```\n"
   ]
  },
  {
   "cell_type": "markdown",
   "metadata": {
    "collapsed": true
   },
   "source": [
    "## Step 1: Problem Analysis\n",
    "\n",
    "Inputs:\n",
    "\n",
    "first name\n",
    "last name\n",
    "\n",
    "Outputs:\n",
    "\n",
    "Hello, first name, last name\n",
    "Or should I say last name first name\n",
    "\n",
    "Algorithm (Steps in Program):\n",
    "\n",
    "input first name \n",
    "input last name \n",
    "print line one with embedded variables \n",
    "print line two with embedded variables\n",
    "\n"
   ]
  },
  {
   "cell_type": "code",
   "execution_count": 7,
   "metadata": {},
   "outputs": [
    {
     "name": "stdout",
     "output_type": "stream",
     "text": [
      "What is your first name? Puzzanghera\n",
      "What is your last name? Hope\n",
      "Hello, Puzzanghera Hope\n",
      "Or should I say Hope Puzzanghera\n"
     ]
    }
   ],
   "source": [
    "first_name = input('What is your first name? ')\n",
    "last_name = input('What is your last name? ')\n",
    "print('Hello,' , first_name , last_name)\n",
    "print('Or should I say' , last_name , first_name)"
   ]
  },
  {
   "cell_type": "markdown",
   "metadata": {},
   "source": [
    "## Step 3: Questions\n",
    "\n",
    "1. What happens when don't follow the instructions and enter your first name as your last name? Does the code still run? Why?\n",
    "\n",
    "The code still runs, it just flips the input you enter because it thinks your first name is your last name. \n",
    "\n",
    "2. What type of error it when the program runs but does not handle bad input?\n",
    "\n",
    "It is a logical error, so the program will run but the output will not be what you wanted. \n",
    "\n",
    "3. Is there anything you can do in code to correct this type of error? Why or why not?\n",
    "\n",
    "I don't think there is any way to correct this type of errror because python has no way of knowing which is the first name and which is the last name from the input. It only knows that a variable was assigned to certain input. "
   ]
  },
  {
   "cell_type": "markdown",
   "metadata": {},
   "source": [
    "## Reminder of Evaluation Criteria\n",
    "\n",
    "1. What the problem attempted (analysis, code, and answered questions) ?\n",
    "2. What the problem analysis thought out? (does the program match the plan?)\n",
    "3. Does the code execute without syntax error?\n",
    "4. Does the code solve the intended problem?\n",
    "5. Is the code well written? (easy to understand, modular, and self-documenting, handles errors)\n"
   ]
  },
  {
   "cell_type": "code",
   "execution_count": null,
   "metadata": {
    "collapsed": true
   },
   "outputs": [],
   "source": []
  }
 ],
 "metadata": {
  "anaconda-cloud": {},
  "kernelspec": {
   "display_name": "Python 3",
   "language": "python",
   "name": "python3"
  },
  "language_info": {
   "codemirror_mode": {
    "name": "ipython",
    "version": 3
   },
   "file_extension": ".py",
   "mimetype": "text/x-python",
   "name": "python",
   "nbconvert_exporter": "python",
   "pygments_lexer": "ipython3",
   "version": "3.6.3"
  }
 },
 "nbformat": 4,
 "nbformat_minor": 1
}
