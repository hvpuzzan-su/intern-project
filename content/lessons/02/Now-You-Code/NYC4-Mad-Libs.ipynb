{
 "cells": [
  {
   "cell_type": "markdown",
   "metadata": {},
   "source": [
    "# Now You Code 4: Mad Libs!\n",
    "\n",
    "Write a Python program which creates your own unique Mad-Libs! story.\n",
    "\n",
    "If you are not familar with a Mad-Libs! story, check out:\n",
    "http://www.madlibs.com and http://www.madtakes.com\n",
    "\n",
    "Your story should take at least 5 inputs, and should include more than\n",
    "once sentence. \n"
   ]
  },
  {
   "cell_type": "markdown",
   "metadata": {
    "collapsed": true
   },
   "source": [
    "## Step 1: Problem Analysis\n",
    "\n",
    "Inputs:\n",
    "verb\n",
    "noun \n",
    "adjective \n",
    "place\n",
    "past tense verb\n",
    "\n",
    "Outputs:\n",
    "The madlib\n",
    "\n",
    "Algorithm (Steps in Program):\n",
    "input verb\n",
    "input noun\n",
    "input adjective\n",
    "input place \n",
    "input past tense verb\n",
    "print madlib sentences "
   ]
  },
  {
   "cell_type": "code",
   "execution_count": 5,
   "metadata": {},
   "outputs": [
    {
     "name": "stdout",
     "output_type": "stream",
     "text": [
      "Enter verb swim\n",
      "Enter noun toilet\n",
      "Enter adjective pretty\n",
      "Enter place the mall\n",
      "Enter past tense verb ran\n",
      "Sally wanted to swim at the toilet Unfortunately her pretty friend wanted to go to the mall for fun. So they ran there.\n"
     ]
    }
   ],
   "source": [
    "verb = input('Enter verb ')\n",
    "noun = input('Enter noun ')\n",
    "adjective = input('Enter adjective ')\n",
    "place = input('Enter place ')\n",
    "past_verb = input('Enter past tense verb ')\n",
    "print('Sally wanted to', verb, 'at the', noun, 'Unfortunately her', adjective, 'friend wanted to go to', place, 'for fun. So they', past_verb, 'there.')"
   ]
  },
  {
   "cell_type": "markdown",
   "metadata": {},
   "source": [
    "## Step 3: Questions\n",
    "\n",
    "1. What happens when neglect to follow the instructions and enter any inputs we desire? Does the code still run? Why?\n",
    "\n",
    "Yes it will still run because there are no syntax errors.\n",
    "\n",
    "2. What type of error occurs when the program runs but does not handle bad input?\n",
    "\n",
    "This is called a logic error or bug. Meaning there isn't a problem with the code just the logic of the program. \n",
    "\n",
    "3. Is there anything you can do in code to correct this type of error? Why or why not?\n",
    "\n",
    "There's not really anything you can do except check your work and make sure the input is correct so it will produce the proper output. "
   ]
  },
  {
   "cell_type": "markdown",
   "metadata": {},
   "source": [
    "## Reminder of Evaluation Criteria\n",
    "\n",
    "1. What the problem attempted (analysis, code, and answered questions) ?\n",
    "2. What the problem analysis thought out? (does the program match the plan?)\n",
    "3. Does the code execute without syntax error?\n",
    "4. Does the code solve the intended problem?\n",
    "5. Is the code well written? (easy to understand, modular, and self-documenting, handles errors)\n"
   ]
  },
  {
   "cell_type": "code",
   "execution_count": null,
   "metadata": {
    "collapsed": true
   },
   "outputs": [],
   "source": []
  }
 ],
 "metadata": {
  "anaconda-cloud": {},
  "kernelspec": {
   "display_name": "Python 3",
   "language": "python",
   "name": "python3"
  },
  "language_info": {
   "codemirror_mode": {
    "name": "ipython",
    "version": 3
   },
   "file_extension": ".py",
   "mimetype": "text/x-python",
   "name": "python",
   "nbconvert_exporter": "python",
   "pygments_lexer": "ipython3",
   "version": "3.6.3"
  }
 },
 "nbformat": 4,
 "nbformat_minor": 1
}
