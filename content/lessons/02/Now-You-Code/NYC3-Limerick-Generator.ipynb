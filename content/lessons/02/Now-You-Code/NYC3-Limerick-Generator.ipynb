{
 "cells": [
  {
   "cell_type": "markdown",
   "metadata": {},
   "source": [
    "# Now You Code 3: Limerick Generator\n",
    "\n",
    "We will write code in this example to create the first two lines of a [Limerick](https://en.wikipedia.org/wiki/Limerick_(poetry)). We're going to keep it really simple, and ask for 4 inputs:\n",
    "- a woman's name  \n",
    "- a place\n",
    "- an item\n",
    "- a material \n",
    "\n",
    "The place and material must rhyme. The Python program will then output the first two lines of the limerick, substituting the values you've entered. \n",
    "\n",
    "**Example 1:**\n",
    "\n",
    "INPUT:\n",
    "\n",
    "- Enter a woman's name: Jane\n",
    "- Enter a place: New York\n",
    "- Enter an item: hat\n",
    "- Enter a material, which rhymes with 'New York': cork.\n",
    "\n",
    "OUTPUT:\n",
    "I once knew Jane from New York. Her hat was constructed of cork.\n",
    "\n",
    "**Example 2:**\n",
    "\n",
    "INPUT:\n",
    "\n",
    "- Enter a woman's name: Agatha\n",
    "- Enter a place: my car\n",
    "- Enter an item: bike\n",
    "- Enter a material, which rhymes with 'my car': tar\n",
    "\n",
    "OUTPUT: \n",
    "I once knew Agatha from my car. Her bike was constructed of tar.\n"
   ]
  },
  {
   "cell_type": "markdown",
   "metadata": {
    "collapsed": true
   },
   "source": [
    "## Step 1: Problem Analysis\n",
    "\n",
    "Inputs:\n",
    "woman's name\n",
    "place\n",
    "item\n",
    "material\n",
    "\n",
    "Outputs:\n",
    "limerick statement\n",
    "\n",
    "Algorithm (Steps in Program):\n",
    "input woman's name\n",
    "input place\n",
    "input item\n",
    "input material that rhymes with the place\n",
    "print limerick "
   ]
  },
  {
   "cell_type": "code",
   "execution_count": 1,
   "metadata": {},
   "outputs": [
    {
     "name": "stdout",
     "output_type": "stream",
     "text": [
      "Enter a woman nameSarah\n",
      "Enter place the land\n",
      "Enter item boat\n",
      "Enter material that rhymes with the place sand\n",
      "I once knew Sarah from the land her boat was constructed of sand\n"
     ]
    }
   ],
   "source": [
    "woman_name = input('Enter a woman name' )\n",
    "place = input('Enter place ')\n",
    "item = input('Enter item ')\n",
    "material = input('Enter material that rhymes with the place ')\n",
    "print('I once knew', woman_name, 'from', place, 'her', item, 'was constructed of', material)"
   ]
  },
  {
   "cell_type": "markdown",
   "metadata": {},
   "source": [
    "## Step 3: Questions\n",
    "\n",
    "1. What happens when neglect to follow the instructions and enter any inputs we desire? Does the code still run? Why?\n",
    "\n",
    "The code will still run because there is no syntax error. Variables at this point do not care about values. \n",
    "\n",
    "2. What type of error occurs when the program runs but does not handle bad input?\n",
    "\n",
    "This is a logical error, also known as a bug. There is nothing wrong with the code the program is just logically flawed. \n",
    "\n",
    "3. Is there anything you can do in code to correct this type of error? Why or why not?\n",
    "\n",
    "The only way to fix it is to make sure the variables have the right inputs so they match the outputs. "
   ]
  },
  {
   "cell_type": "markdown",
   "metadata": {},
   "source": [
    "## Reminder of Evaluation Criteria\n",
    "\n",
    "1. What the problem attempted (analysis, code, and answered questions) ?\n",
    "2. What the problem analysis thought out? (does the program match the plan?)\n",
    "3. Does the code execute without syntax error?\n",
    "4. Does the code solve the intended problem?\n",
    "5. Is the code well written? (easy to understand, modular, and self-documenting, handles errors)\n"
   ]
  },
  {
   "cell_type": "code",
   "execution_count": null,
   "metadata": {
    "collapsed": true
   },
   "outputs": [],
   "source": []
  }
 ],
 "metadata": {
  "anaconda-cloud": {},
  "kernelspec": {
   "display_name": "Python 3",
   "language": "python",
   "name": "python3"
  },
  "language_info": {
   "codemirror_mode": {
    "name": "ipython",
    "version": 3
   },
   "file_extension": ".py",
   "mimetype": "text/x-python",
   "name": "python",
   "nbconvert_exporter": "python",
   "pygments_lexer": "ipython3",
   "version": "3.6.3"
  }
 },
 "nbformat": 4,
 "nbformat_minor": 1
}
