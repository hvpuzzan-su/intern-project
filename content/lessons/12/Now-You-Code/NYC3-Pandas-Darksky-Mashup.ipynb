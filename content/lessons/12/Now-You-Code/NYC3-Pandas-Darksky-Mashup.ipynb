{
 "cells": [
  {
   "cell_type": "markdown",
   "metadata": {},
   "source": [
    "## Load the 7 day forecast from DarkSky.Net into Pandas!\n",
    "\n",
    "In this example you will go back to https://api.darksky.net and use your API key to get the current weather forecast for:\n",
    "\n",
    "Syrcause, NY `(lat=43.0481221, lng=-76.1474244)`\n",
    "\n",
    "In the forecast output, find the daily 7 day forecast (it's the current conditions + 7 days out == 8 days total)\n",
    "\n",
    "Extract the forecast data and load it into Pandas, then display the Time of the forecast, and high and low temperatures:\n",
    "\n",
    "**HINT**: To get the times to show up in a human-readable format, you must convert the DarkSky API time (which is in unix timestamp format) to a Pandas Timestamp date/time format. The `pd.to_datetime()` function can help you:\n",
    "\n",
    "```\n",
    "time = 1489402800 # this the time format Darksky returns\n",
    "readable_time = pd.to_datetime(time, unit='s') ## s stands for unix timestamp format\n",
    "readable_time\n",
    "\n",
    "Timestamp('2017-03-13 11:00:00')\n",
    "```\n",
    "\n",
    "Just replace the `['time']` column in the `DataFrame` with the new version."
   ]
  },
  {
   "cell_type": "markdown",
   "metadata": {},
   "source": [
    "## Step 1: Problem Analysis for entire program\n",
    "\n",
    "Inputs: \n",
    "\n",
    "Outputs:\n",
    "\n",
    "Algorithm (Steps in Program):\n"
   ]
  },
  {
   "cell_type": "code",
   "execution_count": 23,
   "metadata": {},
   "outputs": [
    {
     "name": "stdout",
     "output_type": "stream",
     "text": [
      "https://api.darksky.net/forecast/f401535c6d98772f61738417ac33e0c5/43.048122,-76.147424\n"
     ]
    }
   ],
   "source": [
    "# STEP 2: Todo write code here\n",
    "import requests\n",
    "import pandas as pd \n",
    "import numpy as np\n",
    "from IPython.display import display\n",
    "\n",
    "lat = 43.048122\n",
    "lng = -76.147424\n",
    "key = 'f401535c6d98772f61738417ac33e0c5'\n",
    "url = 'https://api.darksky.net/forecast/%s/%s,%s' % (key,lat,lng)\n",
    "print(url)"
   ]
  },
  {
   "cell_type": "code",
   "execution_count": 46,
   "metadata": {},
   "outputs": [
    {
     "name": "stdout",
     "output_type": "stream",
     "text": [
      "1524110400\n",
      "<class 'pandas._libs.tslib.Timestamp'>\n"
     ]
    }
   ],
   "source": [
    "response = requests.get(url)\n",
    "if response.ok:\n",
    "    weather = response.json()\n",
    "#print(weather.keys())\n",
    "print(weather['daily']['data'][1]['time'])\n",
    "time = weather['daily']['data'][1]['time']\n",
    "realtime = (pd.to_datetime(time, unit='s'))\n",
    "print(type(realtime))"
   ]
  },
  {
   "cell_type": "code",
   "execution_count": 47,
   "metadata": {},
   "outputs": [
    {
     "ename": "SyntaxError",
     "evalue": "'return' outside function (<ipython-input-47-2b2c6c2d1c9f>, line 17)",
     "output_type": "error",
     "traceback": [
      "\u001b[0;36m  File \u001b[0;32m\"<ipython-input-47-2b2c6c2d1c9f>\"\u001b[0;36m, line \u001b[0;32m17\u001b[0m\n\u001b[0;31m    return(realtime,mintemp,maxtemp)\u001b[0m\n\u001b[0m    ^\u001b[0m\n\u001b[0;31mSyntaxError\u001b[0m\u001b[0;31m:\u001b[0m 'return' outside function\n"
     ]
    }
   ],
   "source": [
    "# Here's my output from when I ran the solution, to give you an example of what I expect\n",
    "def getforecastdata():\n",
    "    lat = 43.048122\n",
    "    lng = -76.147424\n",
    "    key = 'f401535c6d98772f61738417ac33e0c5'\n",
    "    url = 'https://api.darksky.net/forecast/%s/%s,%s' % (key,lat,lng)\n",
    "try:\n",
    "    response = requests.get(url)\n",
    "    weather = response.json()\n",
    "    realtime = []\n",
    "    mintemp =[]\n",
    "    maxtemp = []\n",
    "    for day in weather['daily']['data']:\n",
    "        realtime.append(pd.to_datetime(day['time'], unit='s'))\n",
    "        mintemp.append(day['temperatureMin'])\n",
    "        maxtemp.append(day['temperatureMax'])\n",
    "    return(realtime,mintemp,maxtemp)\n",
    "\n",
    "except json.decoder.JSONDecodeError as e:\n",
    "    print('ERROR: Cannot decod the response into json')\n",
    "    print('DETAILS', e)\n",
    "except requests.exceptions.HTTPError as e:\n",
    "    print('ERROR: Response from', url, 'was not ok.')\n",
    "    print('DETAILS:', e)\n",
    "except reuests.exceptions.RequestException as e:\n",
    "    print('ERROR: Cannot connect to', url)\n",
    "    print('DETAILS:', e)"
   ]
  },
  {
   "cell_type": "markdown",
   "metadata": {},
   "source": [
    "## Step 3: Questions\n",
    "\n",
    "1. Pandas programs are different than typical Python programs. Explain the process by which you got the final solution?\n",
    "2. What was the most difficult aspect of this assignment? "
   ]
  },
  {
   "cell_type": "markdown",
   "metadata": {},
   "source": [
    "## Reminder of Evaluation Criteria\n",
    "\n",
    "1. What the problem attempted (analysis, code, and answered questions) ?\n",
    "2. What the problem analysis thought out? (does the program match the plan?)\n",
    "3. Does the code execute without syntax error?\n",
    "4. Does the code solve the intended problem?\n",
    "5. Is the code well written? (easy to understand, modular, and self-documenting, handles errors)"
   ]
  },
  {
   "cell_type": "code",
   "execution_count": null,
   "metadata": {},
   "outputs": [],
   "source": []
  }
 ],
 "metadata": {
  "anaconda-cloud": {},
  "kernelspec": {
   "display_name": "Python 3",
   "language": "python",
   "name": "python3"
  },
  "language_info": {
   "codemirror_mode": {
    "name": "ipython",
    "version": 3
   },
   "file_extension": ".py",
   "mimetype": "text/x-python",
   "name": "python",
   "nbconvert_exporter": "python",
   "pygments_lexer": "ipython3",
   "version": "3.6.3"
  }
 },
 "nbformat": 4,
 "nbformat_minor": 1
}
