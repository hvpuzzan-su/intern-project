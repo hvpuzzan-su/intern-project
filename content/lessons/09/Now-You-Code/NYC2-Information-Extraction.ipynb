{
 "cells": [
  {
   "cell_type": "markdown",
   "metadata": {},
   "source": [
    "# Now You Code 2: Information Extraction\n",
    "\n",
    "How do we make computers seem intelligent? One approach is to use *term extraction*. Term extration is a type of information extration where we attempt to find relevant terms in text. The relevant terms come from a *corpus*, or set of plausible terms we want to extract.\n",
    "\n",
    "For example, suppose we have the text:\n",
    "\n",
    "`One day I would like to visit Syracuse`\n",
    "\n",
    "We has smart humans can be fairly confident that `Syracuse` is a place, more specifically a `city`. \n",
    "\n",
    "A rudimentary method to make the computer interpret `Syracuse` as a place is to provide a corpus of cities and have the computer look up `Syracuse` in that corpus. \n",
    "\n",
    "In this code exercise we will do just that. Let's first write a function to read cities from the file `NYC2-cities.txt` into a corpus of cities, which will be represented in Python as a list.\n",
    "\n",
    "Then write a main program loop to input some text, split the text into a list of words and if any of the words match a city in the corpus list we will output the word is a city.\n",
    "\n",
    "The program should handle upper / lower case matching. A good approach is to title case the input. \n",
    "\n",
    "IMPORTANT: Please note that our program will ONLY work for one word cities, like `Syracuse` and will not work for multiple-word cities like `San Diego`. Don't worry about that now. \n",
    "\n",
    "SAMPLE RUN\n",
    "\n",
    "```\n",
    "Enter some text (or ENTER to quit): one day I would like to visit syraucse and rochester\n",
    "Syracuse is a city\n",
    "Rochester is a city\n",
    "Enter some text (or ENTER to quit): austin is in texas\n",
    "Austin is a city\n",
    "Enter some text (or ENTER to quit): \n",
    "Quitting...\n",
    "```\n",
    "\n",
    "Once again we will solve this problem using the problem simplification approach. First we will write the `load_city_corpus` function to build our city list. Second we will write the  `is_a_city` function which given a word and a city list will return `True` when the word is a city. Finally we conclude with the main program which finds cities in our text, as demonstrated in our sample run."
   ]
  },
  {
   "cell_type": "markdown",
   "metadata": {
    "collapsed": true
   },
   "source": [
    "## Step 1: Problem Analysis for `load_city_corpus`\n",
    "\n",
    "Inputs: None (reads from a file)\n",
    "\n",
    "Outputs: a Python list of cities\n",
    "\n",
    "Algorithm (Steps in Program):\n",
    "Def load_city_corpus\n",
    "\n",
    "\n",
    "\n"
   ]
  },
  {
   "cell_type": "code",
   "execution_count": 2,
   "metadata": {},
   "outputs": [],
   "source": [
    "## Step 2: write the defintion for the load_city_corpus function\n",
    "filename = 'NYC2-cities.txt'\n",
    "def load_city_corpus():\n",
    "    words = []\n",
    "    with open(filename, \"r\") as fin:\n",
    "        words = fin.read()\n",
    "        words = words.split()\n",
    "    return words"
   ]
  },
  {
   "cell_type": "markdown",
   "metadata": {},
   "source": [
    "## Step 3: Problem Analysis for `is_a_city`\n",
    "\n",
    "Inputs: a string word and a Python list of cities\n",
    "\n",
    "Outputs: True or False when word is in the list of cities.\n",
    "\n",
    "Algorithm (Steps in Program):\n",
    "\n"
   ]
  },
  {
   "cell_type": "code",
   "execution_count": null,
   "metadata": {},
   "outputs": [],
   "source": [
    "## Step 4: write the definition for the is_a_city function\n",
    "is_a_city = load_city_corpus()\n",
    "\n",
    "userInput=\"\"\n",
    "while True: \n",
    "    userInput = str(input('Enter text: '))\n",
    "    if(userInput == \"quit\"):\n",
    "        break\n",
    "    userInput=userInput.split()\n",
    "    for i in userInput:\n",
    "        if(i in is_a_city):\n",
    "            print(i, 'is a city')"
   ]
  },
  {
   "cell_type": "markdown",
   "metadata": {},
   "source": [
    "## Step 5: Problem Analysis for entire program\n",
    "\n",
    "Inputs: citys from python list\n",
    "\n",
    "Outputs: \"i\" is a city\n",
    "\n",
    "Algorithm (Steps in Program): (make sure to use the two functions we created)\n",
    "\n",
    "Def load_city_corpus\n",
    "assign is_a_city to load_city_corpus\n",
    "use a while statement to determine if the user input is in the list \n",
    "if input is a city print (i is a city)\n",
    "\n",
    "\n"
   ]
  },
  {
   "cell_type": "code",
   "execution_count": null,
   "metadata": {},
   "outputs": [],
   "source": [
    "## Step 6: Write complete program, making sure to use your two functions.\n",
    "filename = 'NYC2-cities.txt'\n",
    "def load_city_corpus():\n",
    "    words = []\n",
    "    with open(filename, \"r\") as fin:\n",
    "        words = fin.read()\n",
    "        words = words.split()\n",
    "    return words\n",
    "\n",
    "is_a_city = load_city_corpus()\n",
    "\n",
    "userInput=\"\"\n",
    "while True: \n",
    "    userInput = str(input('Enter text: '))\n",
    "    if(userInput == \"quit\"):\n",
    "        break\n",
    "    userInput=userInput.split()\n",
    "    for i in userInput:\n",
    "        if(i in is_a_city):\n",
    "            print(i, 'is a city')\n"
   ]
  },
  {
   "cell_type": "markdown",
   "metadata": {
    "collapsed": true
   },
   "source": [
    "## Step 7: Questions\n",
    "\n",
    "1. Explain your approach to solving this problem for cities with 2 words like `New York` or `Los Angeles`?\n",
    "I would use a string that could idenify both words from the list\n",
    "2. How would you solve the problem where you enter a city name which is not in the corpus?\n",
    "I would need a list that had the city in it. I would not know how to solve it other than that \n",
    "\n"
   ]
  },
  {
   "cell_type": "markdown",
   "metadata": {
    "collapsed": true
   },
   "source": [
    "## Reminder of Evaluation Criteria\n",
    "\n",
    "1. What the problem attempted (analysis, code, and answered questions) ?\n",
    "2. What the problem analysis thought out? (does the program match the plan?)\n",
    "3. Does the code execute without syntax error?\n",
    "4. Does the code solve the intended problem?\n",
    "5. Is the code well written? (easy to understand, modular, and self-documenting, handles errors)\n"
   ]
  },
  {
   "cell_type": "code",
   "execution_count": null,
   "metadata": {
    "collapsed": true
   },
   "outputs": [],
   "source": []
  }
 ],
 "metadata": {
  "anaconda-cloud": {},
  "kernelspec": {
   "display_name": "Python 3",
   "language": "python",
   "name": "python3"
  },
  "language_info": {
   "codemirror_mode": {
    "name": "ipython",
    "version": 3
   },
   "file_extension": ".py",
   "mimetype": "text/x-python",
   "name": "python",
   "nbconvert_exporter": "python",
   "pygments_lexer": "ipython3",
   "version": "3.6.3"
  }
 },
 "nbformat": 4,
 "nbformat_minor": 1
}
