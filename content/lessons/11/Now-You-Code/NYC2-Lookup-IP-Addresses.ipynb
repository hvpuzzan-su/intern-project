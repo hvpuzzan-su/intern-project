{
 "cells": [
  {
   "cell_type": "markdown",
   "metadata": {},
   "source": [
    "# Now You Code 2: IP Addresses\n",
    "\n",
    "For this Now You Code, you will complete a very common task in data analytics: converting an IP address https://en.wikipedia.org/wiki/IP_address to an approximate location.\n",
    "\n",
    "Write a program to read the IP Addresses from the File `NYC2-IP-Addresses.txt` and for each IP address determine the approximate location (City and State) for the origin of that IP Address. This is usually done as part of analytics to determine the origins of website visitors. \n",
    "\n",
    "To perform the lookups, use the http://freegeoip.net API. **You'll have to read through the API documentation first and understand how to use the API before you write the program. **\n",
    "\n",
    "Once again, problem simplification is key here.  Just get the  IP lookup working, writing it as a function, and then try to read from the file and perform the lookups for each IP address in the file.\n",
    "\n",
    "Here's a sample of a geoip lookup of the IP Address `'128.230.182.217'`\n",
    "\n",
    "```\n",
    "{'city': 'Syracuse',\n",
    " 'country_code': 'US',\n",
    " 'country_name': 'United States',\n",
    " 'ip': '128.230.182.217',\n",
    " 'latitude': 43.0377,\n",
    " 'longitude': -76.1396,\n",
    " 'metro_code': 555,\n",
    " 'region_code': 'NY',\n",
    " 'region_name': 'New York',\n",
    " 'time_zone': 'America/New_York',\n",
    " 'zip_code': '13244'}\n",
    "```\n",
    "\n",
    "In this example the city and state would be `Syracuse, NY`\n",
    "\n",
    "\n",
    "Final Program Output will read all the addresses from the file.:\n",
    "\n",
    "```\n",
    "IP: 128.122.140.238 LOCATION: New York,NY\n",
    "IP: 23.112.232.160 LOCATION: Green Bay,WI\n",
    "IP: 23.192.215.44 LOCATION: Cambridge,MA\n",
    "IP: 23.224.160.4 LOCATION: Cheyenne,WY\n",
    "IP: 23.230.12.5 LOCATION: San Jose,CA\n",
    "IP: 23.80.125.101 LOCATION: Phoenix,AZ\n",
    "IP: 23.83.132.200 LOCATION: Phoenix,AZ\n",
    "IP: 23.88.15.5 LOCATION: Los Angeles,CA\n",
    "IP: 24.0.14.56 LOCATION: Iselin,NJ\n",
    "IP: 24.1.25.140 LOCATION: Chicago,IL\n",
    "IP: 24.11.125.10 LOCATION: Orem,UT\n",
    "IP: 24.38.114.105 LOCATION: Matawan,NJ\n",
    "IP: 24.38.224.161 LOCATION: Darien,CT\n",
    "IP: 56.216.127.219 LOCATION: Raleigh,NC\n",
    "IP: 68.199.40.156 LOCATION: Elmont,NY\n",
    "IP: 74.111.18.59 LOCATION: Auburn,NY\n",
    "IP: 74.111.6.173 LOCATION: Liverpool,NY\n",
    "IP: 98.29.25.44 LOCATION: Dayton,OH\n",
    "```\n"
   ]
  },
  {
   "cell_type": "markdown",
   "metadata": {
    "collapsed": true
   },
   "source": [
    "## Step 1: Problem Analysis for `geoiplookup` function\n",
    "\n",
    "Inputs: IP address or domain name: for example `8.8.8.8`  or `'www.syracuse.edu`\n",
    "\n",
    "Outputs: Dictionary of Geographic information for that IP Address\n",
    "\n",
    "Algorithm (Steps in Program):\n",
    "\n",
    "```\n",
    "import request and json\n",
    "def geoiplookup\n",
    "set parameters for ip\n",
    "assign access key to variable \n",
    "assign url to variable \n",
    "get response for url\n",
    "set geodata equal to response.json\n",
    "return geodata\n",
    "```\n"
   ]
  },
  {
   "cell_type": "code",
   "execution_count": 1,
   "metadata": {},
   "outputs": [],
   "source": [
    "# Step 2: write the user defined function `geoiplookup`\n",
    "#http://api.ipstack.com/[key]/\n",
    "\n",
    "import requests\n",
    "import json\n",
    "\n",
    "def geoiplookup(ip):\n",
    "    params = {'ip': ip}\n",
    "    key = '?access_key=cf1e24a4474aaa3446916a74cdf93d5c'\n",
    "    url = ('http://api.ipstack.com/%s,%s' % (ip, key))\n",
    "    response = requests.get(url, params = params)\n",
    "    geodata = response.json()\n",
    "    return geodata\n",
    "    \n",
    "\n",
    "\n",
    "\n",
    "    \n"
   ]
  },
  {
   "cell_type": "code",
   "execution_count": 2,
   "metadata": {},
   "outputs": [
    {
     "name": "stdout",
     "output_type": "stream",
     "text": [
      "WHEN ip='128.230.12.5' We EXPECT geoiplookup(ip) to return city Syracuse ACTUAL: Syracuse\n",
      "WHEN ip='www.syracuse.edu' We EXPECT geoiplookup(ip) to return city Syracuse ACTUAL: Syracuse\n"
     ]
    }
   ],
   "source": [
    "# Step 2.b Tests for geoip lookup help ensure you wrote the function correctly!\n",
    "\n",
    "print(\"WHEN ip='128.230.12.5' We EXPECT geoiplookup(ip) to return city Syracuse ACTUAL:\", geoiplookup('128.230.182.217')['city'])\n",
    "print(\"WHEN ip='www.syracuse.edu' We EXPECT geoiplookup(ip) to return city Syracuse ACTUAL:\", geoiplookup('www.syracuse.edu')['city'])\n"
   ]
  },
  {
   "cell_type": "markdown",
   "metadata": {},
   "source": [
    "## Step 3: Problem Analysis for entire program\n",
    "\n",
    "Inputs: IP address file for ip inputs \n",
    "\n",
    "Outputs: IP address and Location (city, state)\n",
    "\n",
    "Algorithm (Steps in Program):\n",
    "\n",
    "```\n",
    "use geoiplookup definition \n",
    "open file \n",
    "assign variable to read file and split lines\n",
    "create a loop for ips in the file \n",
    "assign geodata to geoiplookup ip\n",
    "assign city to geodata dictionary key\n",
    "assign state to geodata dictionary key \n",
    "print output\n",
    "```\n"
   ]
  },
  {
   "cell_type": "code",
   "execution_count": 9,
   "metadata": {},
   "outputs": [
    {
     "name": "stdout",
     "output_type": "stream",
     "text": [
      "IP: 128.122.140.238 LOCATION: New York,NY\n",
      "IP: 23.112.232.160 LOCATION: Green Bay,WI\n",
      "IP: 23.192.215.44 LOCATION: Cambridge,MA\n",
      "IP: 23.224.160.4 LOCATION: Los Angeles,CA\n",
      "IP: 23.230.12.5 LOCATION: San Jose,CA\n",
      "IP: 23.80.125.101 LOCATION: Phoenix,AZ\n",
      "IP: 23.83.132.200 LOCATION: Phoenix,AZ\n",
      "IP: 23.88.15.5 LOCATION: Los Angeles,CA\n",
      "IP: 24.0.14.56 LOCATION: Woodbridge,NJ\n",
      "IP: 24.1.25.140 LOCATION: Chicago,IL\n",
      "IP: 24.11.125.10 LOCATION: Orem,UT\n",
      "IP: 24.38.114.105 LOCATION: None,None\n",
      "IP: 24.38.224.161 LOCATION: Bridgeport,CT\n",
      "IP: 56.216.127.219 LOCATION: Raleigh,NC\n",
      "IP: 68.199.40.156 LOCATION: Englishtown,NJ\n",
      "IP: 74.111.18.59 LOCATION: Auburn,NY\n",
      "IP: 74.111.6.173 LOCATION: Liverpool,NY\n",
      "IP: 98.29.25.44 LOCATION: Dayton,OH\n"
     ]
    }
   ],
   "source": [
    "# Step 4: write main program here\n",
    "import requests\n",
    "import json\n",
    "\n",
    "def geoiplookup(ip):\n",
    "    params = {'ip': ip}\n",
    "    key = '?access_key=cf1e24a4474aaa3446916a74cdf93d5c'\n",
    "    url = ('http://api.ipstack.com/%s,%s' % (ip, key))\n",
    "    response = requests.get(url, params = params)\n",
    "    geodata = response.json()\n",
    "    return geodata\n",
    "\n",
    "with open('NYC2-IP-Addresses.txt', 'r') as f:\n",
    "    iplist = f.read().splitlines()\n",
    "for ip in iplist:\n",
    "    geodata = geoiplookup(ip)\n",
    "    city = geodata['city']\n",
    "    state = geodata['region_code']\n",
    "    print('IP: %s LOCATION: %s,%s' % (ip, city, state))\n",
    "   \n",
    "\n"
   ]
  },
  {
   "cell_type": "markdown",
   "metadata": {},
   "source": [
    "## Step 5: Questions\n",
    "\n",
    "1. Place your laptop in Airplane mode and run the program. How can this program be modified so that it will not error in the event of a network outage? \n",
    "The program said there was a connection error. You could create a dictionary not connected to the internet that stores this information.\n",
    "2. In what other ways can this program be modified to be more useful?\n",
    "It could use an input IP address function so the user has an option to look up more IP addressed not listed in the file\n",
    "3. What is the advantage of reading the IP Addresses from a file as opposed to entering them in ar run time?\n",
    "It saves the coder a significant amount of time, typing it all out would take much longer."
   ]
  },
  {
   "cell_type": "markdown",
   "metadata": {},
   "source": [
    "## Reminder of Evaluation Criteria\n",
    "\n",
    "1. What the problem attempted (analysis, code, and answered questions) ?\n",
    "2. What the problem analysis thought out? (does the program match the plan?)\n",
    "3. Does the code execute without syntax error?\n",
    "4. Does the code solve the intended problem?\n",
    "5. Is the code well written? (easy to understand, modular, and self-documenting, handles errors)\n"
   ]
  },
  {
   "cell_type": "code",
   "execution_count": null,
   "metadata": {},
   "outputs": [],
   "source": []
  }
 ],
 "metadata": {
  "anaconda-cloud": {},
  "kernelspec": {
   "display_name": "Python 3",
   "language": "python",
   "name": "python3"
  },
  "language_info": {
   "codemirror_mode": {
    "name": "ipython",
    "version": 3
   },
   "file_extension": ".py",
   "mimetype": "text/x-python",
   "name": "python",
   "nbconvert_exporter": "python",
   "pygments_lexer": "ipython3",
   "version": "3.6.3"
  }
 },
 "nbformat": 4,
 "nbformat_minor": 1
}
