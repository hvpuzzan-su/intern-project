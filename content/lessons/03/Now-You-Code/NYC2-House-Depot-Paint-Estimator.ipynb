{
 "cells": [
  {
   "cell_type": "markdown",
   "metadata": {},
   "source": [
    "# Now You Code 2: House Depot Paint Estimator\n",
    "\n",
    "The big-box hardware store *House Depot* as contracted you to write an App to estimate the amount of paint required to paint a room. Given that 1 gallon of paint covers 400 square feet, you must output the number of paint cans required to paint a rectangular room.\n",
    "\n",
    "The program should input:\n",
    "\n",
    "- the length of the room in feet, \n",
    "- the width of the room in feet,\n",
    "- the height of the room in feet\n",
    "\n",
    "The program should output:\n",
    "\n",
    "- total area to be painted ( sum of each of the 4 walls)\n",
    "- the number of gallons of paint required to paint the room.\n",
    "\n",
    "Example:\n",
    "\n",
    "```\n",
    "Enter length of room: 12\n",
    "Enter width of room: 14\n",
    "Enter height of room: 8\n",
    "Total area to be painted: 416.00\n",
    "Total gallons of paint requried: 2\n",
    "```\n",
    "\n",
    "HINT: Use the `math.ceil()` function to round your number of gallons up to the nearest whole number \n"
   ]
  },
  {
   "cell_type": "markdown",
   "metadata": {},
   "source": [
    "## Step 1: Problem Analysis\n",
    "\n",
    "Inputs:\n",
    "input width of room\n",
    "input length of room\n",
    "input height of room \n",
    "\n",
    "assign the paint coverage\n",
    "\n",
    "Outputs: \n",
    "Total aread to be painted sum of four ways * height\n",
    "cost of paint required\n",
    "\n",
    "Algorithm (Steps in Program):\n",
    "Assign paint cost to a variable \n",
    "assign paint coverage to a variable \n",
    "input length of room\n",
    "input width of room \n",
    "input height of room \n",
    "calculate area of room (sum of four walls * height)\n",
    "assign area to varibale \n",
    "assign gallons needed to a variable\n",
    "calculate number of gallons needed (area/400)\n",
    "print number of gallons needed\n",
    "\n"
   ]
  },
  {
   "cell_type": "code",
   "execution_count": 3,
   "metadata": {},
   "outputs": [
    {
     "name": "stdout",
     "output_type": "stream",
     "text": [
      "Enter length of room: 70\n",
      "Enter width of room: 80\n",
      "Enter height of room: 30\n",
      "Total area to be painted:  9000\n",
      "Total gallons of paint required: 23\n"
     ]
    }
   ],
   "source": [
    "import math # you need this to use math.ceil(), so we wrote this part of the code for you!!! LEAVE IT HERE!\n",
    "# Step 2: write code here\n",
    "length = int(input('Enter length of room: '))\n",
    "width = int(input('Enter width of room: '))\n",
    "height = int(input('Enter height of room: '))\n",
    "area = ((2*length) +(2 * width)) * height\n",
    "print('Total area to be painted: ' , area)\n",
    "gallons = area/400\n",
    "gallons = math.ceil(gallons)\n",
    "print('Total gallons of paint required: %d' % gallons)\n"
   ]
  },
  {
   "cell_type": "markdown",
   "metadata": {},
   "source": [
    "## Step 3: Questions\n",
    "\n",
    "1. Why does the program still run when you enter a negative number for length?\n",
    "Because python recognizes negative numbers\n",
    "2. Does the output make sense when you enter a negative length? Why type of error is this?\n",
    "No it does not make sense, this is a logic error because python only reads the code written not the question being asked\n",
    "3. Why do we use `math.ceil()` in this program? In other words are you allowed to buy 3.75 gallons of paint?\n",
    "Because you would need to purchase a certain number of full gallons, you can't buy partial gallons, so you need the program to round up to ensure you buy enough paint. \n"
   ]
  },
  {
   "cell_type": "markdown",
   "metadata": {},
   "source": [
    "## Reminder of Evaluation Criteria\n",
    "\n",
    "1. What the problem attempted (analysis, code, and answered questions) ?\n",
    "2. What the problem analysis thought out? (does the program match the plan?)\n",
    "3. Does the code execute without syntax error?\n",
    "4. Does the code solve the intended problem?\n",
    "5. Is the code well written? (easy to understand, modular, and self-documenting, handles errors)\n"
   ]
  },
  {
   "cell_type": "code",
   "execution_count": null,
   "metadata": {
    "collapsed": true
   },
   "outputs": [],
   "source": []
  }
 ],
 "metadata": {
  "anaconda-cloud": {},
  "kernelspec": {
   "display_name": "Python 3",
   "language": "python",
   "name": "python3"
  },
  "language_info": {
   "codemirror_mode": {
    "name": "ipython",
    "version": 3
   },
   "file_extension": ".py",
   "mimetype": "text/x-python",
   "name": "python",
   "nbconvert_exporter": "python",
   "pygments_lexer": "ipython3",
   "version": "3.6.3"
  }
 },
 "nbformat": 4,
 "nbformat_minor": 1
}
