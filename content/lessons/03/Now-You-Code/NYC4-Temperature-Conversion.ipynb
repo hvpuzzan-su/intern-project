{
 "cells": [
  {
   "cell_type": "markdown",
   "metadata": {},
   "source": [
    "# Now You Code 4: Temperature Conversion\n",
    "\n",
    "Write a python program which will convert temperatures from Celcius to Fahrenheight.\n",
    "The program should take a temperature in degrees Celcius as input and output a temperature in degrees Fahrenheight.\n",
    "\n",
    "Example:\n",
    "\n",
    "```\n",
    "Enter the temperature in Celcius: 100\n",
    "100 Celcius is 212 Fahrenheight\n",
    "```\n",
    "\n",
    "HINT: Use the web to find the formula to convert from Celcius to Fahrenheight.\n"
   ]
  },
  {
   "cell_type": "markdown",
   "metadata": {},
   "source": [
    "## Step 1: Problem Analysis\n",
    "\n",
    "Inputs:\n",
    "Temperature in Celcius\n",
    "\n",
    "Outputs:\n",
    "Temperature in Fahernheight\n",
    "\n",
    "Algorithm (Steps in Program):\n",
    "Assign celcius to variable \n",
    "input celcius temperature\n",
    "calculate fahrenheight (celcius * 1.8)+32 and assign to variable \n",
    "print fahrenheight \n",
    "\n",
    "\n"
   ]
  },
  {
   "cell_type": "code",
   "execution_count": 8,
   "metadata": {},
   "outputs": [
    {
     "name": "stdout",
     "output_type": "stream",
     "text": [
      "Enter the temperature in Celcius: 80\n",
      "80 Celcius is 176 Fahrenheight\n"
     ]
    }
   ],
   "source": [
    "# Step 2: write code here\n",
    "c = int(input('Enter the temperature in Celcius: '))\n",
    "f = (1.8 * c) + 32\n",
    "f = int(f)\n",
    "print('%d Celcius is %d Fahrenheight' % (c, f))\n"
   ]
  },
  {
   "cell_type": "markdown",
   "metadata": {},
   "source": [
    "## Step 3: Questions\n",
    "\n",
    "1. Why does the program still run when you enter a negative number for temperature? Is this an error?\n",
    "It recognizes the negative number. It is not an error because you can have negative degrees.\n",
    "2. Would it be difficult to write a program which did the opposite (conversion F to C)? Explain.\n",
    "I think it would be the same but we would need float variables because the calculation is a little more complicated.\n",
    "3. Did you store the conversion in a variable before printing it on the last line? I argue this makes your program easier to understand. Why?\n",
    "Yes I did. It is easier to understand because the reader can see where the output is coming from. \n"
   ]
  },
  {
   "cell_type": "markdown",
   "metadata": {},
   "source": [
    "## Reminder of Evaluation Criteria\n",
    "\n",
    "1. What the problem attempted (analysis, code, and answered questions) ?\n",
    "2. What the problem analysis thought out? (does the program match the plan?)\n",
    "3. Does the code execute without syntax error?\n",
    "4. Does the code solve the intended problem?\n",
    "5. Is the code well written? (easy to understand, modular, and self-documenting, handles errors)\n"
   ]
  },
  {
   "cell_type": "code",
   "execution_count": null,
   "metadata": {
    "collapsed": true
   },
   "outputs": [],
   "source": []
  }
 ],
 "metadata": {
  "anaconda-cloud": {},
  "kernelspec": {
   "display_name": "Python 3",
   "language": "python",
   "name": "python3"
  },
  "language_info": {
   "codemirror_mode": {
    "name": "ipython",
    "version": 3
   },
   "file_extension": ".py",
   "mimetype": "text/x-python",
   "name": "python",
   "nbconvert_exporter": "python",
   "pygments_lexer": "ipython3",
   "version": "3.6.3"
  }
 },
 "nbformat": 4,
 "nbformat_minor": 1
}
