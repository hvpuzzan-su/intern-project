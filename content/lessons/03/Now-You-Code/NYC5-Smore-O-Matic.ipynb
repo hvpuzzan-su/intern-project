{
 "cells": [
  {
   "cell_type": "markdown",
   "metadata": {},
   "source": [
    "# Now You Code 5: Smore O' Matic\n",
    "\n",
    "A smore https://en.wikipedia.org/wiki/S%27more is a popular campfire treat consisting of marshmellows, chocolate bars, and graham crackers. \n",
    "\n",
    "- Each smore requires 1 marshmallow. There are 60 marshmallows in a bag.\n",
    "- Each smore requires 1 graham cracker square. There are 32 squares in a box of graham crackers.\n",
    "- Each smore requires 1 section of chocolate. There are 24 sections of chocolate in package. \n",
    "\n",
    "So with 1 bag of marshmallows, 1 box of graham crackers, an 1 package of chocolate you can only make 24 smores (and you'll have 8 leftover crackers and 36 marshmallows).\n",
    "\n",
    "Write a program which inputs the costs of the 1 bag of marshmallows, 1 box of graham crackers, an 1 package of chocolate, then calculates total cost and cost per smore.\n",
    "\n",
    "Example:\n",
    "\n",
    "```\n",
    "Cost-per-smore calculator:\n",
    "\n",
    "Input the cost of your 1 bag of marshmallows: 2.79\n",
    "Input the cost of your 1 box of graham crackers: 2.99\n",
    "Input the cost of your 1 package of chocolate: 3.49\n",
    "\n",
    "Total cost of items: 9.27\n",
    "Cost per smore: 0.39\n",
    "```"
   ]
  },
  {
   "cell_type": "markdown",
   "metadata": {},
   "source": [
    "## Step 1: Problem Analysis\n",
    "\n",
    "Inputs:\n",
    "cost of marshmellow \n",
    "cost of graham crackers \n",
    "cost of chocolate\n",
    "\n",
    "Outputs:\n",
    "total cost of items\n",
    "cost per smore\n",
    "\n",
    "Algorithm (Steps in Program):\n",
    "Input cost of marshmellow and assign to variable\n",
    "Input cost of graham crackers and assign to variable\n",
    "Input cost of chocolate and assign to variable \n",
    "calculate total cost (marshmellow + graham + chocolate) and assign to variable as a float with 2 decimal places\n",
    "calculate total cost per smore ((marshmellow/60) + (graham/32) + (chocolate/24)) assign to variable\n",
    "print total cost and cost per smore \n"
   ]
  },
  {
   "cell_type": "code",
   "execution_count": 5,
   "metadata": {},
   "outputs": [
    {
     "name": "stdout",
     "output_type": "stream",
     "text": [
      "Input the cost of your 1 bag of marshmallows: -2\n",
      "Input the cost of 1 your box of graham crackers: -4\n",
      "Input the cost of your 1 package of chocolate: -3\n",
      "Total cost of items: -9.00\n",
      "Cost per smore: -0.38\n"
     ]
    }
   ],
   "source": [
    "# Step 2: write code here \n",
    "marshmallow = float(input('Input the cost of your 1 bag of marshmallows: '))\n",
    "graham = float(input('Input the cost of 1 your box of graham crackers: '))\n",
    "chocolate = float(input('Input the cost of your 1 package of chocolate: '))\n",
    "total_cost = marshmallow + chocolate + graham \n",
    "cost_per_smore = (marshmallow + chocolate + graham)/24\n",
    "print('Total cost of items: %.2f' % (total_cost))\n",
    "print('Cost per smore: %.2f' % (cost_per_smore))"
   ]
  },
  {
   "cell_type": "markdown",
   "metadata": {},
   "source": [
    "## Step 3: Questions\n",
    "\n",
    "1. Which product is wasted the most when making smores?\n",
    "marshmallows because it has the largest package with the most leftover\n",
    "2. Does the output make sense when you enter a negative prices ? Why type of error is this?\n",
    "It makes sense because the calculations are still accurated but you cannot have negative prices so this is a logic error.\n",
    "3. What is one way this program could be re-written to get the cost per smore lower?\n",
    "You could write it and divide each ingredient by the actual number their package has not just what the smallest package has, this would make each ingredient cheaper except for the smallest one.\n"
   ]
  },
  {
   "cell_type": "markdown",
   "metadata": {},
   "source": [
    "## Reminder of Evaluation Criteria\n",
    "\n",
    "1. What the problem attempted (analysis, code, and answered questions) ?\n",
    "2. What the problem analysis thought out? (does the program match the plan?)\n",
    "3. Does the code execute without syntax error?\n",
    "4. Does the code solve the intended problem?\n",
    "5. Is the code well written? (easy to understand, modular, and self-documenting, handles errors)\n"
   ]
  },
  {
   "cell_type": "code",
   "execution_count": null,
   "metadata": {
    "collapsed": true
   },
   "outputs": [],
   "source": []
  }
 ],
 "metadata": {
  "anaconda-cloud": {},
  "kernelspec": {
   "display_name": "Python 3",
   "language": "python",
   "name": "python3"
  },
  "language_info": {
   "codemirror_mode": {
    "name": "ipython",
    "version": 3
   },
   "file_extension": ".py",
   "mimetype": "text/x-python",
   "name": "python",
   "nbconvert_exporter": "python",
   "pygments_lexer": "ipython3",
   "version": "3.6.3"
  }
 },
 "nbformat": 4,
 "nbformat_minor": 1
}
