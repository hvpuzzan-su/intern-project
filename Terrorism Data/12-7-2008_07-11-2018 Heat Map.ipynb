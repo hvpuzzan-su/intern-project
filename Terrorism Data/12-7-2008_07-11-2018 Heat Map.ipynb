{
 "cells": [
  {
   "cell_type": "code",
   "execution_count": 2,
   "metadata": {},
   "outputs": [],
   "source": [
    "import folium\n",
    "from folium import plugins\n",
    "import pandas as pd\n",
    "from lib.heat_map_plugin import HeatMap\n",
    "\n",
    "data = pd.read_csv('jt_dataset.txt' , index_col=['Event ID'])\n",
    "df = pd.DataFrame(data)\n",
    "df['Event Date'] = pd.to_datetime(df['Event Date'])\n",
    "df['Year'] = df['Event Date'].dt.year\n",
    "\n",
    "locations = df[['Latitude', 'Longitude']]\n",
    "locationlist = locations.values.tolist()\n",
    "\n",
    "hmap = folium.Map(location=[df['Latitude'].mean(), df['Longitude'].mean()], zoom_start=2)\n",
    "HeatMap(locationlist,             \n",
    "        radius=10, blur=6\n",
    "        , gradient= {\n",
    "            .99: 'red',\n",
    "            .90: 'orange',\n",
    "            .60: 'yellow',\n",
    "            .20: 'green',\n",
    "            0: 'blue'\n",
    "            }\n",
    "        ).add_to(hmap)\n",
    "hmap.save(\"C:\\\\Users\\\\hpuzzang\\\\Documents\\\\Terrorism Maps\\\\2008_2018_heatmap.html\")"
   ]
  },
  {
   "cell_type": "code",
   "execution_count": null,
   "metadata": {},
   "outputs": [],
   "source": []
  }
 ],
 "metadata": {
  "kernelspec": {
   "display_name": "Python 3",
   "language": "python",
   "name": "python3"
  },
  "language_info": {
   "codemirror_mode": {
    "name": "ipython",
    "version": 3
   },
   "file_extension": ".py",
   "mimetype": "text/x-python",
   "name": "python",
   "nbconvert_exporter": "python",
   "pygments_lexer": "ipython3",
   "version": "3.6.5"
  }
 },
 "nbformat": 4,
 "nbformat_minor": 2
}
