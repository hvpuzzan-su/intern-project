{
 "cells": [
  {
   "cell_type": "code",
   "execution_count": 6,
   "metadata": {},
   "outputs": [],
   "source": [
    "import folium\n",
    "from folium import plugins\n",
    "import pandas as pd\n",
    "from lib.heat_map_plugin import HeatMap\n",
    "\n",
    "data = pd.read_csv('jt_dataset.txt' , index_col=['Event ID'])\n",
    "df = pd.DataFrame(data)\n",
    "df['Event Date'] = pd.to_datetime(df['Event Date'])\n",
    "df['Year'] = df['Event Date'].dt.year\n",
    "\n",
    "df1 = df.sort_values(by=['Year'])\n",
    "\n",
    "hmap = folium.Map(location=[df['Latitude'].mean(), df['Longitude'].mean()], zoom_start=2)\n",
    "\n",
    "heat_data = [[[row['Latitude'], row['Longitude']] \n",
    "              for index, row in df1[df1['Year'] == i].iterrows()]\n",
    "             for i in set (df1.Year)]\n",
    "\n",
    "hm = plugins.HeatMapWithTime(heat_data, \n",
    "                             index = ['2016', '2017', '2018','2008', '2009', \n",
    "                                      '2010', '2011', '2012', '2013', '2014', '2015'], \n",
    "                             auto_play = True, max_opacity=0.6, radius = 11)\n",
    "hm.add_to(hmap)\n",
    "\n",
    "hmap.save(\"C:\\\\Users\\\\hpuzzang\\\\Documents\\\\Terrorism Maps\\\\2008_2018_heatmapwithtime.html\")"
   ]
  },
  {
   "cell_type": "code",
   "execution_count": null,
   "metadata": {},
   "outputs": [],
   "source": []
  }
 ],
 "metadata": {
  "kernelspec": {
   "display_name": "Python 3",
   "language": "python",
   "name": "python3"
  },
  "language_info": {
   "codemirror_mode": {
    "name": "ipython",
    "version": 3
   },
   "file_extension": ".py",
   "mimetype": "text/x-python",
   "name": "python",
   "nbconvert_exporter": "python",
   "pygments_lexer": "ipython3",
   "version": "3.6.5"
  }
 },
 "nbformat": 4,
 "nbformat_minor": 2
}
