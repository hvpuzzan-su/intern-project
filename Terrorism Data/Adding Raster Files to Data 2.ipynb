{
 "cells": [
  {
   "cell_type": "code",
   "execution_count": 1,
   "metadata": {},
   "outputs": [
    {
     "name": "stderr",
     "output_type": "stream",
     "text": [
      "C:\\Users\\hpuzzang\\Documents\\Python\\lib\\site-packages\\IPython\\core\\interactiveshell.py:2785: DtypeWarning: Columns (6) have mixed types. Specify dtype option on import or set low_memory=False.\n",
      "  interactivity=interactivity, compiler=compiler, result=result)\n"
     ]
    }
   ],
   "source": [
    "import xarray as xr\n",
    "import datetime\n",
    "import os\n",
    "from shapely.geometry import Point\n",
    "import gdal\n",
    "import geopandas\n",
    "from geopandas.tools import sjoin\n",
    "import rasterio\n",
    "import numpy as np\n",
    "from affine import Affine\n",
    "from pyproj import Proj, transform\n",
    "import pandas as pd\n",
    "import affine\n",
    "from geopandas import GeoDataFrame\n",
    "\n",
    "coords = pd.read_csv('supplier_20180806.csv')\n",
    "\n",
    "coords = coords.rename(columns={'LONGITUDE': 'longitude', 'LATITUDE': 'latitude'})\n",
    "\n",
    "def RetrieveRasterAppAttr(global_coords, rasterfile, newattr):\n",
    "    # retrieve pixel values for lat, lon\n",
    "    t1 = datetime.datetime.now()\n",
    "    with rasterio.open(rasterfile) as src:\n",
    "        global_coords[newattr] = [x[0] for x in src.sample(zip(global_coords.longitude, global_coords.latitude))]\n",
    "    t2 = datetime.datetime.now()\n",
    "    print('It took ', t2-t1)"
   ]
  },
  {
   "cell_type": "code",
   "execution_count": 2,
   "metadata": {},
   "outputs": [],
   "source": [
    "geom = coords.apply(lambda x : Point([x['longitude'],x['latitude']]), axis=1)\n",
    "coords = geopandas.GeoDataFrame(coords, geometry=geom) #geom is a Series\n",
    "coords.crs = {'init' :'epsg:4326'}\n",
    "shapefile=r'\\\\pngssvmh01\\hpuzzang\\Geo Data\\global_urban_extent_polygons_v1.01.shp'\n",
    "poly = geopandas.GeoDataFrame.from_file(shapefile)\n",
    "coords = sjoin(coords, poly.loc[:, ['SCHNM', 'geometry']], how='left').drop(['index_right'], axis = 1)\n",
    "shapefile=r'\\\\pngssvmh01\\hpuzzang\\Geo Data\\TM_WORLD_BORDERS_SIMPL-0.3.shp'\n",
    "poly = geopandas.GeoDataFrame.from_file(shapefile)\n",
    "coords = sjoin(coords, poly, how='left').drop(['geometry', 'index_right'], axis = 1)\n",
    "coords['country'] = coords['country'].fillna('')"
   ]
  },
  {
   "cell_type": "code",
   "execution_count": 4,
   "metadata": {},
   "outputs": [
    {
     "name": "stdout",
     "output_type": "stream",
     "text": [
      "It took  0:00:09.873013\n",
      "It took  0:00:42.639978\n",
      "It took  0:00:42.705000\n",
      "It took  0:00:41.539000\n",
      "It took  0:00:36.630000\n",
      "It took  0:00:38.066000\n"
     ]
    }
   ],
   "source": [
    "RetrieveRasterAppAttr(coords, r'H:\\Geo Data\\gpw_v4_population_density_adjusted_to_2015_unwpp_country_totals_rev10_2015_2pt5_min.tif', 'GPW_pop_2015')\n",
    "RetrieveRasterAppAttr(coords, r'H:\\Geo Data\\gpw_v4_basic_demographic_characteristics_rev10_a000_014bt_2010_cntm_30_sec.tif', 'age0to14cnt')\n",
    "RetrieveRasterAppAttr(coords, r'H:\\Geo Data\\gpw_v4_basic_demographic_characteristics_rev10_a000_014ft_2010_cntm_30_sec.tif', 'age0to14femalecnt')\n",
    "RetrieveRasterAppAttr(coords, r'H:\\Geo Data\\gpw_v4_basic_demographic_characteristics_rev10_a000_014mt_2010_cntm_30_sec.tif', 'age0to14malecnt')\n",
    "RetrieveRasterAppAttr(coords, r'H:\\Geo Data\\gpw_v4_basic_demographic_characteristics_rev10_a015_049bt_2010_cntm_30_sec.tif', 'age15to49cnt')\n",
    "RetrieveRasterAppAttr(coords, r'H:\\Geo Data\\gpw_v4_basic_demographic_characteristics_rev10_a015_049ft_2010_cntm_30_sec.tif', 'age15to49femalecnt')"
   ]
  },
  {
   "cell_type": "code",
   "execution_count": 5,
   "metadata": {},
   "outputs": [
    {
     "name": "stdout",
     "output_type": "stream",
     "text": [
      "It took  0:00:42.978000\n",
      "It took  0:00:44.426000\n",
      "It took  0:00:44.056000\n",
      "It took  0:00:43.446000\n"
     ]
    }
   ],
   "source": [
    "RetrieveRasterAppAttr(coords, r'H:\\Geo Data\\gpw_v4_basic_demographic_characteristics_rev10_a015_049mt_2010_cntm_30_sec.tif', 'age15to49malecnt')\n",
    "RetrieveRasterAppAttr(coords, r'H:\\Geo Data\\gpw_v4_basic_demographic_characteristics_rev10_a015_064bt_2010_cntm_30_sec.tif', 'age15to64cnt')\n",
    "RetrieveRasterAppAttr(coords, r'H:\\Geo Data\\gpw_v4_basic_demographic_characteristics_rev10_a015_064ft_2010_cntm_30_sec.tif', 'age15to64femalecnt')\n",
    "RetrieveRasterAppAttr(coords, r'H:\\Geo Data\\gpw_v4_basic_demographic_characteristics_rev10_a015_064mt_2010_cntm_30_sec.tif', 'age15to64malecnt')"
   ]
  },
  {
   "cell_type": "code",
   "execution_count": 13,
   "metadata": {},
   "outputs": [
    {
     "name": "stdout",
     "output_type": "stream",
     "text": [
      "It took  0:00:25.357899\n",
      "It took  0:00:25.651130\n",
      "It took  0:00:26.533305\n"
     ]
    }
   ],
   "source": [
    "RetrieveRasterAppAttr(coords, r'H:\\Geo Data\\gpw_v4_basic_demographic_characteristics_rev10_a065plusbt_2010_cntm_30_sec.tif', 'age65pluscnt')\n",
    "RetrieveRasterAppAttr(coords, r'H:\\Geo Data\\gpw_v4_basic_demographic_characteristics_rev10_a065plusft_2010_cntm_30_sec.tif', 'age65plusfemalecnt')\n",
    "RetrieveRasterAppAttr(coords, r'H:\\Geo Data\\gpw_v4_basic_demographic_characteristics_rev10_a065plusmt_2010_cntm_30_sec.tif', 'age65plusmalecnt')"
   ]
  },
  {
   "cell_type": "code",
   "execution_count": 14,
   "metadata": {},
   "outputs": [
    {
     "name": "stdout",
     "output_type": "stream",
     "text": [
      "It took  0:00:12.741548\n",
      "It took  0:00:08.043609\n",
      "It took  0:00:10.176035\n"
     ]
    }
   ],
   "source": [
    "RetrieveRasterAppAttr(coords, r'H:\\Geo Data\\gpw_v4_land_water_area_rev10_landareakm_30_sec.tif', 'landareakm')\n",
    "RetrieveRasterAppAttr(coords, r'H:\\Geo Data\\gpw_v4_land_water_area_rev10_waterareakm_30_sec.tif', 'waterareakm')\n",
    "\n",
    "RetrieveRasterAppAttr(coords, r'H:\\Geo Data\\final_trr.tif', 'epopTerro')"
   ]
  },
  {
   "cell_type": "code",
   "execution_count": 15,
   "metadata": {},
   "outputs": [],
   "source": [
    "# replace the missing values\n",
    "coords._get_numeric_data()[coords._get_numeric_data() < -100000] = np.NaN\n",
    "gcoords = coords.fillna(0)"
   ]
  },
  {
   "cell_type": "code",
   "execution_count": 16,
   "metadata": {},
   "outputs": [],
   "source": [
    "# create smart variables: ratio\n",
    "# water ratio\n",
    "gcoords.eval(\"ratioWater = (waterareakm + 0.000001)/(waterareakm + landareakm + 0.000001)\", inplace=True)"
   ]
  },
  {
   "cell_type": "code",
   "execution_count": 17,
   "metadata": {},
   "outputs": [],
   "source": [
    "# female ratio\n",
    "gcoords.eval(\"ratioFemale0to14 = (age0to14femalecnt + 0.000001)/(age0to14cnt + 0.000001)\", inplace=True)\n",
    "gcoords.eval(\"ratioFemale15to49 = (age15to49femalecnt + 0.000001)/(age15to49cnt + 0.000001)\", inplace=True)\n",
    "gcoords.eval(\"ratioFemale15to64 = (age15to64femalecnt + 0.000001)/(age15to64cnt + 0.000001)\", inplace=True)\n",
    "gcoords.eval(\"ratioFemale65plus = (age65plusfemalecnt + 0.000001)/(age65pluscnt + 0.000001)\", inplace=True)"
   ]
  },
  {
   "cell_type": "code",
   "execution_count": 18,
   "metadata": {},
   "outputs": [],
   "source": [
    "# kids ratio\n",
    "gcoords.eval(\"ratioKid = (age0to14cnt + 0.000001)/(age0to14cnt + age15to64cnt + age65pluscnt + 0.000001)\", inplace=True)\n",
    "\n",
    "# senior ratio\n",
    "gcoords.eval(\"ratioSenior = (age65pluscnt + 0.000001)/(age0to14cnt + age15to64cnt + age65pluscnt + 0.000001)\", inplace=True)"
   ]
  },
  {
   "cell_type": "code",
   "execution_count": 19,
   "metadata": {},
   "outputs": [],
   "source": [
    "gcoords.to_csv(r'latlong_country_tns_id_aig_appended2.csv', sep=',')"
   ]
  },
  {
   "cell_type": "code",
   "execution_count": null,
   "metadata": {},
   "outputs": [],
   "source": []
  }
 ],
 "metadata": {
  "kernelspec": {
   "display_name": "Python 3",
   "language": "python",
   "name": "python3"
  },
  "language_info": {
   "codemirror_mode": {
    "name": "ipython",
    "version": 3
   },
   "file_extension": ".py",
   "mimetype": "text/x-python",
   "name": "python",
   "nbconvert_exporter": "python",
   "pygments_lexer": "ipython3",
   "version": "3.6.5"
  }
 },
 "nbformat": 4,
 "nbformat_minor": 2
}
